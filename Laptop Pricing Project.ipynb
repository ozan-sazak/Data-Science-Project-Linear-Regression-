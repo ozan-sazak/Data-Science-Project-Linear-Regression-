{
 "cells": [
  {
   "cell_type": "markdown",
   "id": "12beacfd-81a8-4650-a8de-3e5fecd1018b",
   "metadata": {},
   "source": [
    "# Laptop Price Prediction Project"
   ]
  },
  {
   "cell_type": "markdown",
   "id": "a401729f-1df0-4259-9a5d-6bfe51148253",
   "metadata": {},
   "source": [
    "In this project, we have a dataset that contain laptop's features with their prices."
   ]
  },
  {
   "cell_type": "markdown",
   "id": "97cd6482-0eb7-438a-82ca-086eb2effe10",
   "metadata": {},
   "source": [
    "We want to build a linear regression model that predicts laptop prices."
   ]
  },
  {
   "cell_type": "markdown",
   "id": "d48903f7-7a97-423c-b36c-4b89561d51a5",
   "metadata": {},
   "source": [
    "In order to obtain this we will:\n",
    "1. Load our data and prepare\n",
    "2. Clean our data\n",
    "3. Make an exploratory data analysis\n",
    "4. Build a model"
   ]
  },
  {
   "cell_type": "markdown",
   "id": "f3feed2f-4b3f-4a1f-af8c-5767ca6d212b",
   "metadata": {},
   "source": [
    "## STAGE 1: Data Loading and Preperation"
   ]
  },
  {
   "cell_type": "markdown",
   "id": "87ca09b7-d491-4978-a9bb-2382c8ce2ea5",
   "metadata": {},
   "source": [
    "Firstly, let's import necessary libraries."
   ]
  },
  {
   "cell_type": "code",
   "execution_count": 2022,
   "id": "cd75e583-439f-4341-9f7b-e189ccb05b10",
   "metadata": {},
   "outputs": [],
   "source": [
    "import numpy as np\n",
    "import pandas as pd"
   ]
  },
  {
   "cell_type": "markdown",
   "id": "37e3f6bf-de0c-48d7-b4ab-660b1b8902b0",
   "metadata": {},
   "source": [
    "Since, the data is in csv format, we will convert it into dataframe by using pandas read_csv function, and check its first 5 elements."
   ]
  },
  {
   "cell_type": "code",
   "execution_count": 2025,
   "id": "d4319ebc-4147-484a-81ad-f4daf8f51c28",
   "metadata": {},
   "outputs": [
    {
     "data": {
      "text/html": [
       "<div>\n",
       "<style scoped>\n",
       "    .dataframe tbody tr th:only-of-type {\n",
       "        vertical-align: middle;\n",
       "    }\n",
       "\n",
       "    .dataframe tbody tr th {\n",
       "        vertical-align: top;\n",
       "    }\n",
       "\n",
       "    .dataframe thead th {\n",
       "        text-align: right;\n",
       "    }\n",
       "</style>\n",
       "<table border=\"1\" class=\"dataframe\">\n",
       "  <thead>\n",
       "    <tr style=\"text-align: right;\">\n",
       "      <th></th>\n",
       "      <th>Acer</th>\n",
       "      <th>4</th>\n",
       "      <th>IPS Panel</th>\n",
       "      <th>2</th>\n",
       "      <th>1</th>\n",
       "      <th>5</th>\n",
       "      <th>35.56</th>\n",
       "      <th>1.6</th>\n",
       "      <th>8</th>\n",
       "      <th>256</th>\n",
       "      <th>1.6.1</th>\n",
       "      <th>978</th>\n",
       "    </tr>\n",
       "  </thead>\n",
       "  <tbody>\n",
       "    <tr>\n",
       "      <th>0</th>\n",
       "      <td>Dell</td>\n",
       "      <td>3</td>\n",
       "      <td>Full HD</td>\n",
       "      <td>1</td>\n",
       "      <td>1</td>\n",
       "      <td>3</td>\n",
       "      <td>39.624</td>\n",
       "      <td>2.0</td>\n",
       "      <td>4</td>\n",
       "      <td>256</td>\n",
       "      <td>2.2</td>\n",
       "      <td>634</td>\n",
       "    </tr>\n",
       "    <tr>\n",
       "      <th>1</th>\n",
       "      <td>Dell</td>\n",
       "      <td>3</td>\n",
       "      <td>Full HD</td>\n",
       "      <td>1</td>\n",
       "      <td>1</td>\n",
       "      <td>7</td>\n",
       "      <td>39.624</td>\n",
       "      <td>2.7</td>\n",
       "      <td>8</td>\n",
       "      <td>256</td>\n",
       "      <td>2.2</td>\n",
       "      <td>946</td>\n",
       "    </tr>\n",
       "    <tr>\n",
       "      <th>2</th>\n",
       "      <td>Dell</td>\n",
       "      <td>4</td>\n",
       "      <td>IPS Panel</td>\n",
       "      <td>2</td>\n",
       "      <td>1</td>\n",
       "      <td>5</td>\n",
       "      <td>33.782</td>\n",
       "      <td>1.6</td>\n",
       "      <td>8</td>\n",
       "      <td>128</td>\n",
       "      <td>1.22</td>\n",
       "      <td>1244</td>\n",
       "    </tr>\n",
       "    <tr>\n",
       "      <th>3</th>\n",
       "      <td>HP</td>\n",
       "      <td>4</td>\n",
       "      <td>Full HD</td>\n",
       "      <td>2</td>\n",
       "      <td>1</td>\n",
       "      <td>7</td>\n",
       "      <td>39.624</td>\n",
       "      <td>1.8</td>\n",
       "      <td>8</td>\n",
       "      <td>256</td>\n",
       "      <td>1.91</td>\n",
       "      <td>837</td>\n",
       "    </tr>\n",
       "    <tr>\n",
       "      <th>4</th>\n",
       "      <td>Dell</td>\n",
       "      <td>3</td>\n",
       "      <td>Full HD</td>\n",
       "      <td>1</td>\n",
       "      <td>1</td>\n",
       "      <td>5</td>\n",
       "      <td>39.624</td>\n",
       "      <td>1.6</td>\n",
       "      <td>8</td>\n",
       "      <td>256</td>\n",
       "      <td>2.2</td>\n",
       "      <td>1016</td>\n",
       "    </tr>\n",
       "  </tbody>\n",
       "</table>\n",
       "</div>"
      ],
      "text/plain": [
       "   Acer  4  IPS Panel  2  1  5   35.56  1.6  8  256 1.6.1   978\n",
       "0  Dell  3    Full HD  1  1  3  39.624  2.0  4  256   2.2   634\n",
       "1  Dell  3    Full HD  1  1  7  39.624  2.7  8  256   2.2   946\n",
       "2  Dell  4  IPS Panel  2  1  5  33.782  1.6  8  128  1.22  1244\n",
       "3    HP  4    Full HD  2  1  7  39.624  1.8  8  256  1.91   837\n",
       "4  Dell  3    Full HD  1  1  5  39.624  1.6  8  256   2.2  1016"
      ]
     },
     "execution_count": 2025,
     "metadata": {},
     "output_type": "execute_result"
    }
   ],
   "source": [
    "df = pd.read_csv(\"laptop_pricing_dataset_base.csv\")\n",
    "df.head()"
   ]
  },
  {
   "cell_type": "markdown",
   "id": "bf7c86c1-c362-4632-8a7f-4d0e145580d0",
   "metadata": {},
   "source": [
    "As we see, there are no headers, so function made first row headers. To fix it, we will:"
   ]
  },
  {
   "cell_type": "code",
   "execution_count": 2028,
   "id": "e564b97b-0ea2-4d2e-baee-4aa8ea79a3df",
   "metadata": {},
   "outputs": [
    {
     "data": {
      "text/html": [
       "<div>\n",
       "<style scoped>\n",
       "    .dataframe tbody tr th:only-of-type {\n",
       "        vertical-align: middle;\n",
       "    }\n",
       "\n",
       "    .dataframe tbody tr th {\n",
       "        vertical-align: top;\n",
       "    }\n",
       "\n",
       "    .dataframe thead th {\n",
       "        text-align: right;\n",
       "    }\n",
       "</style>\n",
       "<table border=\"1\" class=\"dataframe\">\n",
       "  <thead>\n",
       "    <tr style=\"text-align: right;\">\n",
       "      <th></th>\n",
       "      <th>0</th>\n",
       "      <th>1</th>\n",
       "      <th>2</th>\n",
       "      <th>3</th>\n",
       "      <th>4</th>\n",
       "      <th>5</th>\n",
       "      <th>6</th>\n",
       "      <th>7</th>\n",
       "      <th>8</th>\n",
       "      <th>9</th>\n",
       "      <th>10</th>\n",
       "      <th>11</th>\n",
       "    </tr>\n",
       "  </thead>\n",
       "  <tbody>\n",
       "    <tr>\n",
       "      <th>0</th>\n",
       "      <td>Acer</td>\n",
       "      <td>4</td>\n",
       "      <td>IPS Panel</td>\n",
       "      <td>2</td>\n",
       "      <td>1</td>\n",
       "      <td>5</td>\n",
       "      <td>35.56</td>\n",
       "      <td>1.6</td>\n",
       "      <td>8</td>\n",
       "      <td>256</td>\n",
       "      <td>1.6</td>\n",
       "      <td>978</td>\n",
       "    </tr>\n",
       "    <tr>\n",
       "      <th>1</th>\n",
       "      <td>Dell</td>\n",
       "      <td>3</td>\n",
       "      <td>Full HD</td>\n",
       "      <td>1</td>\n",
       "      <td>1</td>\n",
       "      <td>3</td>\n",
       "      <td>39.624</td>\n",
       "      <td>2.0</td>\n",
       "      <td>4</td>\n",
       "      <td>256</td>\n",
       "      <td>2.2</td>\n",
       "      <td>634</td>\n",
       "    </tr>\n",
       "    <tr>\n",
       "      <th>2</th>\n",
       "      <td>Dell</td>\n",
       "      <td>3</td>\n",
       "      <td>Full HD</td>\n",
       "      <td>1</td>\n",
       "      <td>1</td>\n",
       "      <td>7</td>\n",
       "      <td>39.624</td>\n",
       "      <td>2.7</td>\n",
       "      <td>8</td>\n",
       "      <td>256</td>\n",
       "      <td>2.2</td>\n",
       "      <td>946</td>\n",
       "    </tr>\n",
       "    <tr>\n",
       "      <th>3</th>\n",
       "      <td>Dell</td>\n",
       "      <td>4</td>\n",
       "      <td>IPS Panel</td>\n",
       "      <td>2</td>\n",
       "      <td>1</td>\n",
       "      <td>5</td>\n",
       "      <td>33.782</td>\n",
       "      <td>1.6</td>\n",
       "      <td>8</td>\n",
       "      <td>128</td>\n",
       "      <td>1.22</td>\n",
       "      <td>1244</td>\n",
       "    </tr>\n",
       "    <tr>\n",
       "      <th>4</th>\n",
       "      <td>HP</td>\n",
       "      <td>4</td>\n",
       "      <td>Full HD</td>\n",
       "      <td>2</td>\n",
       "      <td>1</td>\n",
       "      <td>7</td>\n",
       "      <td>39.624</td>\n",
       "      <td>1.8</td>\n",
       "      <td>8</td>\n",
       "      <td>256</td>\n",
       "      <td>1.91</td>\n",
       "      <td>837</td>\n",
       "    </tr>\n",
       "  </tbody>\n",
       "</table>\n",
       "</div>"
      ],
      "text/plain": [
       "     0   1          2   3   4   5       6    7   8    9     10    11\n",
       "0  Acer   4  IPS Panel   2   1   5   35.56  1.6   8  256   1.6   978\n",
       "1  Dell   3    Full HD   1   1   3  39.624  2.0   4  256   2.2   634\n",
       "2  Dell   3    Full HD   1   1   7  39.624  2.7   8  256   2.2   946\n",
       "3  Dell   4  IPS Panel   2   1   5  33.782  1.6   8  128  1.22  1244\n",
       "4    HP   4    Full HD   2   1   7  39.624  1.8   8  256  1.91   837"
      ]
     },
     "execution_count": 2028,
     "metadata": {},
     "output_type": "execute_result"
    }
   ],
   "source": [
    "df = pd.read_csv(\"laptop_pricing_dataset_base.csv\", header=None)\n",
    "df.head()"
   ]
  },
  {
   "cell_type": "markdown",
   "id": "ed484d41-bc98-4e8c-93d7-7e48f6e40c30",
   "metadata": {},
   "source": [
    "Problem solved, but we need headers to identify the features. Therefore we will add headers to our dataframe"
   ]
  },
  {
   "cell_type": "code",
   "execution_count": 2031,
   "id": "d792ee84-447e-42ab-947a-7bc3b27917b4",
   "metadata": {},
   "outputs": [
    {
     "data": {
      "text/html": [
       "<div>\n",
       "<style scoped>\n",
       "    .dataframe tbody tr th:only-of-type {\n",
       "        vertical-align: middle;\n",
       "    }\n",
       "\n",
       "    .dataframe tbody tr th {\n",
       "        vertical-align: top;\n",
       "    }\n",
       "\n",
       "    .dataframe thead th {\n",
       "        text-align: right;\n",
       "    }\n",
       "</style>\n",
       "<table border=\"1\" class=\"dataframe\">\n",
       "  <thead>\n",
       "    <tr style=\"text-align: right;\">\n",
       "      <th></th>\n",
       "      <th>Manufacturer</th>\n",
       "      <th>Category</th>\n",
       "      <th>Screen</th>\n",
       "      <th>GPU</th>\n",
       "      <th>OS</th>\n",
       "      <th>CPU_core</th>\n",
       "      <th>Screen_Size_cm</th>\n",
       "      <th>CPU_frequency</th>\n",
       "      <th>RAM_GB</th>\n",
       "      <th>Storage_GB_SSD</th>\n",
       "      <th>Weight_kg</th>\n",
       "      <th>Price</th>\n",
       "    </tr>\n",
       "  </thead>\n",
       "  <tbody>\n",
       "    <tr>\n",
       "      <th>0</th>\n",
       "      <td>Acer</td>\n",
       "      <td>4</td>\n",
       "      <td>IPS Panel</td>\n",
       "      <td>2</td>\n",
       "      <td>1</td>\n",
       "      <td>5</td>\n",
       "      <td>35.56</td>\n",
       "      <td>1.6</td>\n",
       "      <td>8</td>\n",
       "      <td>256</td>\n",
       "      <td>1.6</td>\n",
       "      <td>978</td>\n",
       "    </tr>\n",
       "    <tr>\n",
       "      <th>1</th>\n",
       "      <td>Dell</td>\n",
       "      <td>3</td>\n",
       "      <td>Full HD</td>\n",
       "      <td>1</td>\n",
       "      <td>1</td>\n",
       "      <td>3</td>\n",
       "      <td>39.624</td>\n",
       "      <td>2.0</td>\n",
       "      <td>4</td>\n",
       "      <td>256</td>\n",
       "      <td>2.2</td>\n",
       "      <td>634</td>\n",
       "    </tr>\n",
       "    <tr>\n",
       "      <th>2</th>\n",
       "      <td>Dell</td>\n",
       "      <td>3</td>\n",
       "      <td>Full HD</td>\n",
       "      <td>1</td>\n",
       "      <td>1</td>\n",
       "      <td>7</td>\n",
       "      <td>39.624</td>\n",
       "      <td>2.7</td>\n",
       "      <td>8</td>\n",
       "      <td>256</td>\n",
       "      <td>2.2</td>\n",
       "      <td>946</td>\n",
       "    </tr>\n",
       "    <tr>\n",
       "      <th>3</th>\n",
       "      <td>Dell</td>\n",
       "      <td>4</td>\n",
       "      <td>IPS Panel</td>\n",
       "      <td>2</td>\n",
       "      <td>1</td>\n",
       "      <td>5</td>\n",
       "      <td>33.782</td>\n",
       "      <td>1.6</td>\n",
       "      <td>8</td>\n",
       "      <td>128</td>\n",
       "      <td>1.22</td>\n",
       "      <td>1244</td>\n",
       "    </tr>\n",
       "    <tr>\n",
       "      <th>4</th>\n",
       "      <td>HP</td>\n",
       "      <td>4</td>\n",
       "      <td>Full HD</td>\n",
       "      <td>2</td>\n",
       "      <td>1</td>\n",
       "      <td>7</td>\n",
       "      <td>39.624</td>\n",
       "      <td>1.8</td>\n",
       "      <td>8</td>\n",
       "      <td>256</td>\n",
       "      <td>1.91</td>\n",
       "      <td>837</td>\n",
       "    </tr>\n",
       "  </tbody>\n",
       "</table>\n",
       "</div>"
      ],
      "text/plain": [
       "  Manufacturer  Category     Screen  GPU  OS  CPU_core Screen_Size_cm  \\\n",
       "0         Acer         4  IPS Panel    2   1         5          35.56   \n",
       "1         Dell         3    Full HD    1   1         3         39.624   \n",
       "2         Dell         3    Full HD    1   1         7         39.624   \n",
       "3         Dell         4  IPS Panel    2   1         5         33.782   \n",
       "4           HP         4    Full HD    2   1         7         39.624   \n",
       "\n",
       "   CPU_frequency  RAM_GB  Storage_GB_SSD Weight_kg  Price  \n",
       "0            1.6       8             256       1.6    978  \n",
       "1            2.0       4             256       2.2    634  \n",
       "2            2.7       8             256       2.2    946  \n",
       "3            1.6       8             128      1.22   1244  \n",
       "4            1.8       8             256      1.91    837  "
      ]
     },
     "execution_count": 2031,
     "metadata": {},
     "output_type": "execute_result"
    }
   ],
   "source": [
    "# Here is the headers according to our dataset\n",
    "headers = [\"Manufacturer\", \"Category\", \"Screen\", \"GPU\", \"OS\", \"CPU_core\", \"Screen_Size_cm\", \"CPU_frequency\", \"RAM_GB\", \"Storage_GB_SSD\", \"Weight_kg\", \"Price\"]\n",
    "df.columns = headers\n",
    "df.head()"
   ]
  },
  {
   "cell_type": "markdown",
   "id": "3cd25edd-c58a-4e94-819f-015b0cbf03a9",
   "metadata": {},
   "source": [
    "Next thing, we will look dataset summary to check if there are NaN values"
   ]
  },
  {
   "cell_type": "code",
   "execution_count": 2034,
   "id": "9ea4b037-bd3c-4605-aa30-ac289e7fd52b",
   "metadata": {},
   "outputs": [
    {
     "name": "stdout",
     "output_type": "stream",
     "text": [
      "<class 'pandas.core.frame.DataFrame'>\n",
      "RangeIndex: 238 entries, 0 to 237\n",
      "Data columns (total 12 columns):\n",
      " #   Column          Non-Null Count  Dtype  \n",
      "---  ------          --------------  -----  \n",
      " 0   Manufacturer    238 non-null    object \n",
      " 1   Category        238 non-null    int64  \n",
      " 2   Screen          238 non-null    object \n",
      " 3   GPU             238 non-null    int64  \n",
      " 4   OS              238 non-null    int64  \n",
      " 5   CPU_core        238 non-null    int64  \n",
      " 6   Screen_Size_cm  238 non-null    object \n",
      " 7   CPU_frequency   238 non-null    float64\n",
      " 8   RAM_GB          238 non-null    int64  \n",
      " 9   Storage_GB_SSD  238 non-null    int64  \n",
      " 10  Weight_kg       238 non-null    object \n",
      " 11  Price           238 non-null    int64  \n",
      "dtypes: float64(1), int64(7), object(4)\n",
      "memory usage: 22.4+ KB\n"
     ]
    }
   ],
   "source": [
    "df.info()"
   ]
  },
  {
   "cell_type": "markdown",
   "id": "aa72791e-7db1-41ea-84a1-aede6aa87488",
   "metadata": {},
   "source": [
    "It looks like if there are missing values, they are not stand as NaN values. Therefore, we will check whether there are \"?\" in our dataset."
   ]
  },
  {
   "cell_type": "code",
   "execution_count": 2037,
   "id": "68246081-cde8-4c71-b96d-8cd66e5a9744",
   "metadata": {},
   "outputs": [
    {
     "name": "stdout",
     "output_type": "stream",
     "text": [
      "Manufacturer      0\n",
      "Category          0\n",
      "Screen            0\n",
      "GPU               0\n",
      "OS                0\n",
      "CPU_core          0\n",
      "Screen_Size_cm    4\n",
      "CPU_frequency     0\n",
      "RAM_GB            0\n",
      "Storage_GB_SSD    0\n",
      "Weight_kg         5\n",
      "Price             0\n",
      "dtype: int64\n"
     ]
    }
   ],
   "source": [
    "# Count the number of \"?\" values in each column\n",
    "print((df == '?').sum())"
   ]
  },
  {
   "cell_type": "markdown",
   "id": "58579aed-8a9e-4dfe-b290-75cadf2a6ed7",
   "metadata": {},
   "source": [
    "As we see, we have \"?\" values for the missing values. Now, we want to convert them into NaN values in order to fill them easily in the next step."
   ]
  },
  {
   "cell_type": "code",
   "execution_count": 2040,
   "id": "410597d7-bd79-4a2e-b556-07d4cad12952",
   "metadata": {},
   "outputs": [
    {
     "name": "stdout",
     "output_type": "stream",
     "text": [
      "Manufacturer      0\n",
      "Category          0\n",
      "Screen            0\n",
      "GPU               0\n",
      "OS                0\n",
      "CPU_core          0\n",
      "Screen_Size_cm    0\n",
      "CPU_frequency     0\n",
      "RAM_GB            0\n",
      "Storage_GB_SSD    0\n",
      "Weight_kg         0\n",
      "Price             0\n",
      "dtype: int64\n"
     ]
    }
   ],
   "source": [
    "df.replace('?',np.nan, inplace = True)\n",
    "print((df == '?').sum())"
   ]
  },
  {
   "cell_type": "markdown",
   "id": "0d587ef0-ab04-49b5-afb6-93d6e1a53fb3",
   "metadata": {},
   "source": [
    "Now, our dataset is ready for data wrangling."
   ]
  },
  {
   "cell_type": "markdown",
   "id": "24873b31-2502-465e-bcee-e38d9c67f865",
   "metadata": {},
   "source": [
    "## STAGE 2: Data Wrangling"
   ]
  },
  {
   "cell_type": "markdown",
   "id": "65abb549-30e5-419b-bbe4-2dee95ac6de6",
   "metadata": {},
   "source": [
    "In this stage we will:\n",
    "* Handle missing data in different ways\n",
    "* Convert categorical data into numerical indicator variables\n",
    "* Prepare our data to be ready for EDA"
   ]
  },
  {
   "cell_type": "markdown",
   "id": "d9db82b2-2e79-4673-bb0f-51652f5d72a5",
   "metadata": {},
   "source": [
    "Firstly, we can update the Screen_Size_cm column such that all values are rounded to nearest 2 decimal places"
   ]
  },
  {
   "cell_type": "code",
   "execution_count": 2046,
   "id": "c13513c2-e5e1-4512-917f-3f847e9c610e",
   "metadata": {},
   "outputs": [
    {
     "data": {
      "text/html": [
       "<div>\n",
       "<style scoped>\n",
       "    .dataframe tbody tr th:only-of-type {\n",
       "        vertical-align: middle;\n",
       "    }\n",
       "\n",
       "    .dataframe tbody tr th {\n",
       "        vertical-align: top;\n",
       "    }\n",
       "\n",
       "    .dataframe thead th {\n",
       "        text-align: right;\n",
       "    }\n",
       "</style>\n",
       "<table border=\"1\" class=\"dataframe\">\n",
       "  <thead>\n",
       "    <tr style=\"text-align: right;\">\n",
       "      <th></th>\n",
       "      <th>Manufacturer</th>\n",
       "      <th>Category</th>\n",
       "      <th>Screen</th>\n",
       "      <th>GPU</th>\n",
       "      <th>OS</th>\n",
       "      <th>CPU_core</th>\n",
       "      <th>Screen_Size_cm</th>\n",
       "      <th>CPU_frequency</th>\n",
       "      <th>RAM_GB</th>\n",
       "      <th>Storage_GB_SSD</th>\n",
       "      <th>Weight_kg</th>\n",
       "      <th>Price</th>\n",
       "    </tr>\n",
       "  </thead>\n",
       "  <tbody>\n",
       "    <tr>\n",
       "      <th>0</th>\n",
       "      <td>Acer</td>\n",
       "      <td>4</td>\n",
       "      <td>IPS Panel</td>\n",
       "      <td>2</td>\n",
       "      <td>1</td>\n",
       "      <td>5</td>\n",
       "      <td>35.56</td>\n",
       "      <td>1.6</td>\n",
       "      <td>8</td>\n",
       "      <td>256</td>\n",
       "      <td>1.6</td>\n",
       "      <td>978</td>\n",
       "    </tr>\n",
       "    <tr>\n",
       "      <th>1</th>\n",
       "      <td>Dell</td>\n",
       "      <td>3</td>\n",
       "      <td>Full HD</td>\n",
       "      <td>1</td>\n",
       "      <td>1</td>\n",
       "      <td>3</td>\n",
       "      <td>39.624</td>\n",
       "      <td>2.0</td>\n",
       "      <td>4</td>\n",
       "      <td>256</td>\n",
       "      <td>2.2</td>\n",
       "      <td>634</td>\n",
       "    </tr>\n",
       "    <tr>\n",
       "      <th>2</th>\n",
       "      <td>Dell</td>\n",
       "      <td>3</td>\n",
       "      <td>Full HD</td>\n",
       "      <td>1</td>\n",
       "      <td>1</td>\n",
       "      <td>7</td>\n",
       "      <td>39.624</td>\n",
       "      <td>2.7</td>\n",
       "      <td>8</td>\n",
       "      <td>256</td>\n",
       "      <td>2.2</td>\n",
       "      <td>946</td>\n",
       "    </tr>\n",
       "    <tr>\n",
       "      <th>3</th>\n",
       "      <td>Dell</td>\n",
       "      <td>4</td>\n",
       "      <td>IPS Panel</td>\n",
       "      <td>2</td>\n",
       "      <td>1</td>\n",
       "      <td>5</td>\n",
       "      <td>33.782</td>\n",
       "      <td>1.6</td>\n",
       "      <td>8</td>\n",
       "      <td>128</td>\n",
       "      <td>1.22</td>\n",
       "      <td>1244</td>\n",
       "    </tr>\n",
       "    <tr>\n",
       "      <th>4</th>\n",
       "      <td>HP</td>\n",
       "      <td>4</td>\n",
       "      <td>Full HD</td>\n",
       "      <td>2</td>\n",
       "      <td>1</td>\n",
       "      <td>7</td>\n",
       "      <td>39.624</td>\n",
       "      <td>1.8</td>\n",
       "      <td>8</td>\n",
       "      <td>256</td>\n",
       "      <td>1.91</td>\n",
       "      <td>837</td>\n",
       "    </tr>\n",
       "  </tbody>\n",
       "</table>\n",
       "</div>"
      ],
      "text/plain": [
       "  Manufacturer  Category     Screen  GPU  OS  CPU_core Screen_Size_cm  \\\n",
       "0         Acer         4  IPS Panel    2   1         5          35.56   \n",
       "1         Dell         3    Full HD    1   1         3         39.624   \n",
       "2         Dell         3    Full HD    1   1         7         39.624   \n",
       "3         Dell         4  IPS Panel    2   1         5         33.782   \n",
       "4           HP         4    Full HD    2   1         7         39.624   \n",
       "\n",
       "   CPU_frequency  RAM_GB  Storage_GB_SSD Weight_kg  Price  \n",
       "0            1.6       8             256       1.6    978  \n",
       "1            2.0       4             256       2.2    634  \n",
       "2            2.7       8             256       2.2    946  \n",
       "3            1.6       8             128      1.22   1244  \n",
       "4            1.8       8             256      1.91    837  "
      ]
     },
     "execution_count": 2046,
     "metadata": {},
     "output_type": "execute_result"
    }
   ],
   "source": [
    "df[['Screen_Size_cm']] = np.round(df[['Screen_Size_cm']],2)\n",
    "df.head()"
   ]
  },
  {
   "cell_type": "markdown",
   "id": "2e7f7813-8acf-4229-ad46-713557907024",
   "metadata": {},
   "source": [
    "As a next step we can deal with missing data. Wew saw that there are missing data in two columns: Screen_Size_inch and Weight_kg."
   ]
  },
  {
   "cell_type": "markdown",
   "id": "1af215f4-e0c9-48ce-ba30-da0fcf9c21d9",
   "metadata": {},
   "source": [
    "When we are dealing with Weight_kg, we can replace missing data with the average of that column since the \"Weight_kg\" attributes are continuous in nature."
   ]
  },
  {
   "cell_type": "markdown",
   "id": "317c85bf-d6a2-427d-a886-37ab9c7e2a7b",
   "metadata": {},
   "source": [
    "However, when it comes to Screen_Size_inch, even if it looks like there are continuous values in the column, the \"Screen_Size_cm\" attributes are categorical in nature. Therefore, we will write a code to replace the missing values of Screen Size with the most frequent value of the attribute."
   ]
  },
  {
   "cell_type": "code",
   "execution_count": 2051,
   "id": "4c30826c-773c-4bd3-a4c1-9aec20c7c868",
   "metadata": {},
   "outputs": [
    {
     "name": "stderr",
     "output_type": "stream",
     "text": [
      "C:\\Users\\Ozan\\AppData\\Local\\Temp\\ipykernel_4360\\3608204226.py:3: FutureWarning: A value is trying to be set on a copy of a DataFrame or Series through chained assignment using an inplace method.\n",
      "The behavior will change in pandas 3.0. This inplace method will never work because the intermediate object on which we are setting values always behaves as a copy.\n",
      "\n",
      "For example, when doing 'df[col].method(value, inplace=True)', try using 'df.method({col: value}, inplace=True)' or df[col] = df[col].method(value) instead, to perform the operation inplace on the original object.\n",
      "\n",
      "\n",
      "  df[\"Weight_kg\"].replace(np.nan, mean_weight, inplace=True)\n",
      "C:\\Users\\Ozan\\AppData\\Local\\Temp\\ipykernel_4360\\3608204226.py:7: FutureWarning: A value is trying to be set on a copy of a DataFrame or Series through chained assignment using an inplace method.\n",
      "The behavior will change in pandas 3.0. This inplace method will never work because the intermediate object on which we are setting values always behaves as a copy.\n",
      "\n",
      "For example, when doing 'df[col].method(value, inplace=True)', try using 'df.method({col: value}, inplace=True)' or df[col] = df[col].method(value) instead, to perform the operation inplace on the original object.\n",
      "\n",
      "\n",
      "  df[\"Screen_Size_cm\"].replace(np.nan, common_screen_size, inplace=True)\n"
     ]
    }
   ],
   "source": [
    "# Dealing with Weight_kg\n",
    "mean_weight=df['Weight_kg'].astype('float').mean(axis=0)\n",
    "df[\"Weight_kg\"].replace(np.nan, mean_weight, inplace=True)\n",
    "\n",
    "# Dealing with Screen_Size_cm\n",
    "common_screen_size = df['Screen_Size_cm'].value_counts().idxmax()\n",
    "df[\"Screen_Size_cm\"].replace(np.nan, common_screen_size, inplace=True)"
   ]
  },
  {
   "cell_type": "markdown",
   "id": "a60b1363-4c68-481f-80d6-53e145e71287",
   "metadata": {},
   "source": [
    "Now, let's check our data types, since we want our continuos numbers to be numeric."
   ]
  },
  {
   "cell_type": "code",
   "execution_count": 2054,
   "id": "58883309-eea6-49e4-9a18-874cd4b4b248",
   "metadata": {},
   "outputs": [
    {
     "data": {
      "text/plain": [
       "Manufacturer       object\n",
       "Category            int64\n",
       "Screen             object\n",
       "GPU                 int64\n",
       "OS                  int64\n",
       "CPU_core            int64\n",
       "Screen_Size_cm     object\n",
       "CPU_frequency     float64\n",
       "RAM_GB              int64\n",
       "Storage_GB_SSD      int64\n",
       "Weight_kg          object\n",
       "Price               int64\n",
       "dtype: object"
      ]
     },
     "execution_count": 2054,
     "metadata": {},
     "output_type": "execute_result"
    }
   ],
   "source": [
    "df.dtypes"
   ]
  },
  {
   "cell_type": "markdown",
   "id": "ad5375fd-42ad-4e66-ae3f-9182544229cc",
   "metadata": {},
   "source": [
    "Both \"Weight_kg\" and \"Screen_Size_cm\" are seen to have the data type \"Object\", while both of them should be having a data type of \"float\". To fix that:"
   ]
  },
  {
   "cell_type": "code",
   "execution_count": 2057,
   "id": "45e7faf4-93c2-4fdf-857c-e7c2f34ede7e",
   "metadata": {},
   "outputs": [],
   "source": [
    "df[[\"Weight_kg\",\"Screen_Size_cm\"]] = df[[\"Weight_kg\",\"Screen_Size_cm\"]].astype(\"float\")"
   ]
  },
  {
   "cell_type": "markdown",
   "id": "4bfcc4f4-cbf1-4520-bef2-ddfdf1c92cc2",
   "metadata": {},
   "source": [
    "As a next step, we will make data standardization by making Screen_Size_cm turn into Screen_Size_inch since The value of Screen_size usually has a standard unit of inches."
   ]
  },
  {
   "cell_type": "code",
   "execution_count": 2060,
   "id": "bc25cf6e-1aa5-4f45-8c9a-703826d72a65",
   "metadata": {},
   "outputs": [],
   "source": [
    "inch = 2.54\n",
    "\n",
    "df[\"Screen_Size_cm\"] = df[\"Screen_Size_cm\"]/2.54\n",
    "df.rename(columns={'Screen_Size_cm':'Screen_Size_inch'}, inplace=True)"
   ]
  },
  {
   "cell_type": "markdown",
   "id": "c8713534-46e3-4375-9ee4-75a7ca3eb8ab",
   "metadata": {},
   "source": [
    "Since it contains categorical values, we want to convert the \"Screen\" attribute of the dataset into 2 indicator variables, \"Screen-IPS_panel\" and \"Screen-Full_HD\". Then drop the \"Screen\" attribute from the dataset."
   ]
  },
  {
   "cell_type": "code",
   "execution_count": 2063,
   "id": "539a3fb7-94c8-4d21-829b-9585394e4ed8",
   "metadata": {},
   "outputs": [],
   "source": [
    "#Indicator Variable: Screen\n",
    "dummy_variable_1 = pd.get_dummies(df[\"Screen\"])\n",
    "dummy_variable_1.rename(columns={'IPS Panel':'Screen-IPS_panel', 'Full HD':'Screen-Full_HD'}, inplace=True)\n",
    "df = pd.concat([df, dummy_variable_1], axis=1)\n",
    "\n",
    "# drop original column \"Screen\" from \"df\"\n",
    "df.drop(\"Screen\", axis = 1, inplace=True)"
   ]
  },
  {
   "cell_type": "code",
   "execution_count": 2065,
   "id": "aa553047-67d2-406c-b13b-5d974a540f97",
   "metadata": {},
   "outputs": [
    {
     "data": {
      "text/html": [
       "<div>\n",
       "<style scoped>\n",
       "    .dataframe tbody tr th:only-of-type {\n",
       "        vertical-align: middle;\n",
       "    }\n",
       "\n",
       "    .dataframe tbody tr th {\n",
       "        vertical-align: top;\n",
       "    }\n",
       "\n",
       "    .dataframe thead th {\n",
       "        text-align: right;\n",
       "    }\n",
       "</style>\n",
       "<table border=\"1\" class=\"dataframe\">\n",
       "  <thead>\n",
       "    <tr style=\"text-align: right;\">\n",
       "      <th></th>\n",
       "      <th>Manufacturer</th>\n",
       "      <th>Category</th>\n",
       "      <th>GPU</th>\n",
       "      <th>OS</th>\n",
       "      <th>CPU_core</th>\n",
       "      <th>Screen_Size_inch</th>\n",
       "      <th>CPU_frequency</th>\n",
       "      <th>RAM_GB</th>\n",
       "      <th>Storage_GB_SSD</th>\n",
       "      <th>Weight_kg</th>\n",
       "      <th>Price</th>\n",
       "      <th>Screen-Full_HD</th>\n",
       "      <th>Screen-IPS_panel</th>\n",
       "    </tr>\n",
       "  </thead>\n",
       "  <tbody>\n",
       "    <tr>\n",
       "      <th>0</th>\n",
       "      <td>Acer</td>\n",
       "      <td>4</td>\n",
       "      <td>2</td>\n",
       "      <td>1</td>\n",
       "      <td>5</td>\n",
       "      <td>14.0</td>\n",
       "      <td>1.6</td>\n",
       "      <td>8</td>\n",
       "      <td>256</td>\n",
       "      <td>1.60</td>\n",
       "      <td>978</td>\n",
       "      <td>False</td>\n",
       "      <td>True</td>\n",
       "    </tr>\n",
       "    <tr>\n",
       "      <th>1</th>\n",
       "      <td>Dell</td>\n",
       "      <td>3</td>\n",
       "      <td>1</td>\n",
       "      <td>1</td>\n",
       "      <td>3</td>\n",
       "      <td>15.6</td>\n",
       "      <td>2.0</td>\n",
       "      <td>4</td>\n",
       "      <td>256</td>\n",
       "      <td>2.20</td>\n",
       "      <td>634</td>\n",
       "      <td>True</td>\n",
       "      <td>False</td>\n",
       "    </tr>\n",
       "    <tr>\n",
       "      <th>2</th>\n",
       "      <td>Dell</td>\n",
       "      <td>3</td>\n",
       "      <td>1</td>\n",
       "      <td>1</td>\n",
       "      <td>7</td>\n",
       "      <td>15.6</td>\n",
       "      <td>2.7</td>\n",
       "      <td>8</td>\n",
       "      <td>256</td>\n",
       "      <td>2.20</td>\n",
       "      <td>946</td>\n",
       "      <td>True</td>\n",
       "      <td>False</td>\n",
       "    </tr>\n",
       "    <tr>\n",
       "      <th>3</th>\n",
       "      <td>Dell</td>\n",
       "      <td>4</td>\n",
       "      <td>2</td>\n",
       "      <td>1</td>\n",
       "      <td>5</td>\n",
       "      <td>13.3</td>\n",
       "      <td>1.6</td>\n",
       "      <td>8</td>\n",
       "      <td>128</td>\n",
       "      <td>1.22</td>\n",
       "      <td>1244</td>\n",
       "      <td>False</td>\n",
       "      <td>True</td>\n",
       "    </tr>\n",
       "    <tr>\n",
       "      <th>4</th>\n",
       "      <td>HP</td>\n",
       "      <td>4</td>\n",
       "      <td>2</td>\n",
       "      <td>1</td>\n",
       "      <td>7</td>\n",
       "      <td>15.6</td>\n",
       "      <td>1.8</td>\n",
       "      <td>8</td>\n",
       "      <td>256</td>\n",
       "      <td>1.91</td>\n",
       "      <td>837</td>\n",
       "      <td>True</td>\n",
       "      <td>False</td>\n",
       "    </tr>\n",
       "  </tbody>\n",
       "</table>\n",
       "</div>"
      ],
      "text/plain": [
       "  Manufacturer  Category  GPU  OS  CPU_core  Screen_Size_inch  CPU_frequency  \\\n",
       "0         Acer         4    2   1         5              14.0            1.6   \n",
       "1         Dell         3    1   1         3              15.6            2.0   \n",
       "2         Dell         3    1   1         7              15.6            2.7   \n",
       "3         Dell         4    2   1         5              13.3            1.6   \n",
       "4           HP         4    2   1         7              15.6            1.8   \n",
       "\n",
       "   RAM_GB  Storage_GB_SSD  Weight_kg  Price  Screen-Full_HD  Screen-IPS_panel  \n",
       "0       8             256       1.60    978           False              True  \n",
       "1       4             256       2.20    634            True             False  \n",
       "2       8             256       2.20    946            True             False  \n",
       "3       8             128       1.22   1244           False              True  \n",
       "4       8             256       1.91    837            True             False  "
      ]
     },
     "execution_count": 2065,
     "metadata": {},
     "output_type": "execute_result"
    }
   ],
   "source": [
    "df.head()"
   ]
  },
  {
   "cell_type": "markdown",
   "id": "70529564-da9b-408c-af29-ea25cb6b109c",
   "metadata": {},
   "source": [
    "For now, dataframe is ready for EDA"
   ]
  },
  {
   "cell_type": "markdown",
   "id": "8a5fce84-021d-4cf5-8136-9bf6d2bab3b0",
   "metadata": {},
   "source": [
    "## STAGE 3: Exploratory Data Analysis"
   ]
  },
  {
   "cell_type": "markdown",
   "id": "f18efc7f-dac1-4dc6-b76a-0dca9422ce4e",
   "metadata": {},
   "source": [
    "Now, we will mostly create plots with different features to investigate the relationship between them."
   ]
  },
  {
   "cell_type": "markdown",
   "id": "d16e056c-944b-42b6-b679-5f9fab699d5f",
   "metadata": {},
   "source": [
    "But before creating plots, since they contain continous values, we want to check correlation of CPU_frequency, Weight_pounds and Price"
   ]
  },
  {
   "cell_type": "code",
   "execution_count": 2071,
   "id": "98fb6cd9-b767-4bd6-83cd-4f37c5cbce87",
   "metadata": {},
   "outputs": [
    {
     "name": "stdout",
     "output_type": "stream",
     "text": [
      "Correlation of Price and CPU_frequency is                 CPU_frequency     Price\n",
      "CPU_frequency       1.000000  0.366666\n",
      "Price               0.366666  1.000000\n",
      "Correlation of Price and Weight_kg is             Weight_kg     Price\n",
      "Weight_kg   1.000000 -0.050312\n",
      "Price      -0.050312  1.000000\n"
     ]
    }
   ],
   "source": [
    "for i in [\"CPU_frequency\", \"Weight_kg\"]:\n",
    "    print(f\"Correlation of Price and {i} is \", df[[i,\"Price\"]].corr())"
   ]
  },
  {
   "cell_type": "markdown",
   "id": "aa598fa8-499f-4572-ae71-29dc232239e1",
   "metadata": {},
   "source": [
    "Interpretation:\n",
    "From these results, we interpret that CPU_frequency has a 36% positive correlation with the price of the laptops, while the other parameter has weak correlation with price."
   ]
  },
  {
   "cell_type": "markdown",
   "id": "25837ce2-982b-448b-b9eb-287f846fe31e",
   "metadata": {},
   "source": [
    "Let's create the plot to see that relation"
   ]
  },
  {
   "cell_type": "code",
   "execution_count": 2075,
   "id": "45c9dd4e-4d07-4da1-a699-4d3a6150ff06",
   "metadata": {},
   "outputs": [],
   "source": [
    "# First import the necessary tools\n",
    "import seaborn as sns\n",
    "import matplotlib.pyplot as plt"
   ]
  },
  {
   "cell_type": "code",
   "execution_count": 2077,
   "id": "17ee1384-5d52-4aa4-b0d8-cef87aa8f9a6",
   "metadata": {},
   "outputs": [
    {
     "data": {
      "text/plain": [
       "(0.0, 3974.15)"
      ]
     },
     "execution_count": 2077,
     "metadata": {},
     "output_type": "execute_result"
    },
    {
     "data": {
      "image/png": "[encoded data removed]",
      "text/plain": [
       "<Figure size 640x480 with 1 Axes>"
      ]
     },
     "metadata": {},
     "output_type": "display_data"
    }
   ],
   "source": [
    "sns.regplot(x=\"CPU_frequency\", y=\"Price\", data=df)\n",
    "plt.ylim(0,)"
   ]
  },
  {
   "cell_type": "markdown",
   "id": "180ee8f6-0487-4b0b-bbf4-e6e6af6263ea",
   "metadata": {},
   "source": [
    "Now, we want to generate Box plots for the different feature that hold categorical values. These features would be \"Category\", \"GPU\", \"OS\", \"CPU_core\", \"RAM_GB\", \"Storage_GB_SSD\", and \"Screen_Size_inch\"."
   ]
  },
  {
   "cell_type": "code",
   "execution_count": 2080,
   "id": "64b5937d-486a-4c3c-873e-d254cd26f269",
   "metadata": {},
   "outputs": [
    {
     "data": {
      "text/plain": [
       "<Axes: xlabel='Category', ylabel='Price'>"
      ]
     },
     "execution_count": 2080,
     "metadata": {},
     "output_type": "execute_result"
    },
    {
     "data": {
      "image/png": "[encoded data removed]",
      "text/plain": [
       "<Figure size 640x480 with 1 Axes>"
      ]
     },
     "metadata": {},
     "output_type": "display_data"
    }
   ],
   "source": [
    "sns.boxplot(x=\"Category\", y=\"Price\", data=df)"
   ]
  },
  {
   "cell_type": "code",
   "execution_count": 2081,
   "id": "249ebb56-e36f-403e-8afd-24549aeaa602",
   "metadata": {},
   "outputs": [
    {
     "data": {
      "text/plain": [
       "<Axes: xlabel='GPU', ylabel='Price'>"
      ]
     },
     "execution_count": 2081,
     "metadata": {},
     "output_type": "execute_result"
    },
    {
     "data": {
      "image/png": "[encoded data removed]",
      "text/plain": [
       "<Figure size 640x480 with 1 Axes>"
      ]
     },
     "metadata": {},
     "output_type": "display_data"
    }
   ],
   "source": [
    "sns.boxplot(x=\"GPU\", y=\"Price\", data=df)"
   ]
  },
  {
   "cell_type": "code",
   "execution_count": 2083,
   "id": "8e6b68d8-b0f3-498f-aa9d-bc212766c16f",
   "metadata": {},
   "outputs": [
    {
     "data": {
      "text/plain": [
       "<Axes: xlabel='OS', ylabel='Price'>"
      ]
     },
     "execution_count": 2083,
     "metadata": {},
     "output_type": "execute_result"
    },
    {
     "data": {
      "image/png": "[encoded data removed]",
      "text/plain": [
       "<Figure size 640x480 with 1 Axes>"
      ]
     },
     "metadata": {},
     "output_type": "display_data"
    }
   ],
   "source": [
    "sns.boxplot(x=\"OS\", y=\"Price\", data=df)"
   ]
  },
  {
   "cell_type": "code",
   "execution_count": 2085,
   "id": "eabff1c0-0f58-4c74-b1e8-dd2762b8ae27",
   "metadata": {},
   "outputs": [
    {
     "data": {
      "text/plain": [
       "<Axes: xlabel='CPU_core', ylabel='Price'>"
      ]
     },
     "execution_count": 2085,
     "metadata": {},
     "output_type": "execute_result"
    },
    {
     "data": {
      "image/png": "[encoded data removed]",
      "text/plain": [
       "<Figure size 640x480 with 1 Axes>"
      ]
     },
     "metadata": {},
     "output_type": "display_data"
    }
   ],
   "source": [
    "sns.boxplot(x=\"CPU_core\", y=\"Price\", data=df)"
   ]
  },
  {
   "cell_type": "code",
   "execution_count": 2088,
   "id": "27c2faaa-b656-42c0-9e63-4d1fdc4afe20",
   "metadata": {
    "scrolled": true
   },
   "outputs": [
    {
     "data": {
      "text/plain": [
       "<Axes: xlabel='RAM_GB', ylabel='Price'>"
      ]
     },
     "execution_count": 2088,
     "metadata": {},
     "output_type": "execute_result"
    },
    {
     "data": {
      "image/png": "[encoded data removed]",
      "text/plain": [
       "<Figure size 640x480 with 1 Axes>"
      ]
     },
     "metadata": {},
     "output_type": "display_data"
    }
   ],
   "source": [
    "sns.boxplot(x=\"RAM_GB\", y=\"Price\", data=df)"
   ]
  },
  {
   "cell_type": "code",
   "execution_count": 2090,
   "id": "f0859f16-2e33-4023-b613-411144c5f94d",
   "metadata": {},
   "outputs": [
    {
     "data": {
      "text/plain": [
       "<Axes: xlabel='Storage_GB_SSD', ylabel='Price'>"
      ]
     },
     "execution_count": 2090,
     "metadata": {},
     "output_type": "execute_result"
    },
    {
     "data": {
      "image/png": "[encoded data removed]",
      "text/plain": [
       "<Figure size 640x480 with 1 Axes>"
      ]
     },
     "metadata": {},
     "output_type": "display_data"
    }
   ],
   "source": [
    "sns.boxplot(x=\"Storage_GB_SSD\", y=\"Price\", data=df)"
   ]
  },
  {
   "cell_type": "code",
   "execution_count": 2092,
   "id": "a1172926-1ed1-4321-bbad-bcf3b9a8837b",
   "metadata": {},
   "outputs": [
    {
     "data": {
      "text/plain": [
       "<Axes: xlabel='Screen_Size_inch', ylabel='Price'>"
      ]
     },
     "execution_count": 2092,
     "metadata": {},
     "output_type": "execute_result"
    },
    {
     "data": {
      "image/png": "[encoded data removed]",
      "text/plain": [
       "<Figure size 640x480 with 1 Axes>"
      ]
     },
     "metadata": {},
     "output_type": "display_data"
    }
   ],
   "source": [
    "sns.boxplot(x=\"Screen_Size_inch\", y=\"Price\", data=df)"
   ]
  },
  {
   "cell_type": "markdown",
   "id": "a7f3ecc7-e92b-44ef-90f8-3158c4cd9c9b",
   "metadata": {},
   "source": [
    "Interpretations:\n",
    "* Laptops in category 5 are more expensive\n",
    "* OS: when OS=1, laptops are more expensive\n",
    "* As CPU_core increases, GPU increases, RAM increases, price increases\n",
    "* 256 GB storage laptops are more expensive than 128 GB ones"
   ]
  },
  {
   "cell_type": "markdown",
   "id": "795905a6-1290-44a3-bba6-88c76d5856dc",
   "metadata": {},
   "source": [
    "Finally, we will use scipy.stats.pearsonr() function to evaluate the Pearson Coefficient and the p-values for each parameter tested above. This will help us determine the parameters most likely to have a strong effect on the price of the laptops."
   ]
  },
  {
   "cell_type": "code",
   "execution_count": 2096,
   "id": "bc385638-a3c0-44fa-9470-309588ed66de",
   "metadata": {},
   "outputs": [
    {
     "name": "stdout",
     "output_type": "stream",
     "text": [
      "RAM_GB\n",
      "The Pearson Correlation Coefficient for  RAM_GB  is 0.5492972971857841  with a P-value of P = 3.6815606288429613e-20\n",
      "CPU_frequency\n",
      "The Pearson Correlation Coefficient for  CPU_frequency  is 0.36666555892588615  with a P-value of P = 5.502463350713296e-09\n",
      "Storage_GB_SSD\n",
      "The Pearson Correlation Coefficient for  Storage_GB_SSD  is 0.2434207552181029  with a P-value of P = 0.00014898923191724174\n",
      "Screen_Size_inch\n",
      "The Pearson Correlation Coefficient for  Screen_Size_inch  is -0.11064420817118281  with a P-value of P = 0.08853397846830759\n",
      "Weight_kg\n",
      "The Pearson Correlation Coefficient for  Weight_kg  is -0.050312258377515406  with a P-value of P = 0.4397693853433913\n",
      "CPU_core\n",
      "The Pearson Correlation Coefficient for  CPU_core  is 0.45939777733551157  with a P-value of P = 7.912950127009034e-14\n",
      "OS\n",
      "The Pearson Correlation Coefficient for  OS  is -0.2217298011482738  with a P-value of P = 0.0005696642559246759\n",
      "GPU\n",
      "The Pearson Correlation Coefficient for  GPU  is 0.2882981988881428  with a P-value of P = 6.166949698364282e-06\n",
      "Category\n",
      "The Pearson Correlation Coefficient for  Category  is 0.2862427558126413  with a P-value of P = 7.225696235806733e-06\n"
     ]
    }
   ],
   "source": [
    "# Let's import libraries\n",
    "from scipy import stats\n",
    "\n",
    "for parameter in ['RAM_GB','CPU_frequency','Storage_GB_SSD','Screen_Size_inch','Weight_kg','CPU_core','OS','GPU','Category']:\n",
    "    pearson_coef, p_value = stats.pearsonr(df[parameter], df['Price'])\n",
    "    print(parameter)\n",
    "    print(\"The Pearson Correlation Coefficient for \",parameter,\" is\", pearson_coef, \" with a P-value of P =\", p_value)"
   ]
  },
  {
   "cell_type": "markdown",
   "id": "31de32cc-d3ee-4923-9feb-55d13e36dd9d",
   "metadata": {},
   "source": [
    "**From these, we can say that Screen Size and Weight have weak relation with price. We can use others to build our linear regression model in next section**"
   ]
  },
  {
   "cell_type": "markdown",
   "id": "86f55917-f825-4f57-8e5b-308a7f03a7b4",
   "metadata": {},
   "source": [
    "## STAGE 4: Modelling"
   ]
  },
  {
   "cell_type": "code",
   "execution_count": 2100,
   "id": "945a70a6-5fca-4c0a-9aba-5602f1dedf23",
   "metadata": {},
   "outputs": [],
   "source": [
    "# First let's import libraries\n",
    "from sklearn.linear_model import LinearRegression, Ridge\n",
    "from sklearn.preprocessing import StandardScaler, PolynomialFeatures\n",
    "from sklearn.pipeline import Pipeline\n",
    "from sklearn.metrics import mean_squared_error, r2_score\n",
    "from sklearn.model_selection import train_test_split, cross_val_score, GridSearchCV"
   ]
  },
  {
   "cell_type": "code",
   "execution_count": 2102,
   "id": "222566d6-02d3-47e4-b03a-e0d4eb8a1391",
   "metadata": {},
   "outputs": [
    {
     "data": {
      "text/html": [
       "<div>\n",
       "<style scoped>\n",
       "    .dataframe tbody tr th:only-of-type {\n",
       "        vertical-align: middle;\n",
       "    }\n",
       "\n",
       "    .dataframe tbody tr th {\n",
       "        vertical-align: top;\n",
       "    }\n",
       "\n",
       "    .dataframe thead th {\n",
       "        text-align: right;\n",
       "    }\n",
       "</style>\n",
       "<table border=\"1\" class=\"dataframe\">\n",
       "  <thead>\n",
       "    <tr style=\"text-align: right;\">\n",
       "      <th></th>\n",
       "      <th>RAM_GB</th>\n",
       "      <th>CPU_frequency</th>\n",
       "      <th>Storage_GB_SSD</th>\n",
       "      <th>CPU_core</th>\n",
       "      <th>OS</th>\n",
       "      <th>GPU</th>\n",
       "      <th>Category</th>\n",
       "      <th>Price</th>\n",
       "    </tr>\n",
       "  </thead>\n",
       "  <tbody>\n",
       "    <tr>\n",
       "      <th>0</th>\n",
       "      <td>8</td>\n",
       "      <td>1.6</td>\n",
       "      <td>256</td>\n",
       "      <td>5</td>\n",
       "      <td>1</td>\n",
       "      <td>2</td>\n",
       "      <td>4</td>\n",
       "      <td>978</td>\n",
       "    </tr>\n",
       "    <tr>\n",
       "      <th>1</th>\n",
       "      <td>4</td>\n",
       "      <td>2.0</td>\n",
       "      <td>256</td>\n",
       "      <td>3</td>\n",
       "      <td>1</td>\n",
       "      <td>1</td>\n",
       "      <td>3</td>\n",
       "      <td>634</td>\n",
       "    </tr>\n",
       "    <tr>\n",
       "      <th>2</th>\n",
       "      <td>8</td>\n",
       "      <td>2.7</td>\n",
       "      <td>256</td>\n",
       "      <td>7</td>\n",
       "      <td>1</td>\n",
       "      <td>1</td>\n",
       "      <td>3</td>\n",
       "      <td>946</td>\n",
       "    </tr>\n",
       "    <tr>\n",
       "      <th>3</th>\n",
       "      <td>8</td>\n",
       "      <td>1.6</td>\n",
       "      <td>128</td>\n",
       "      <td>5</td>\n",
       "      <td>1</td>\n",
       "      <td>2</td>\n",
       "      <td>4</td>\n",
       "      <td>1244</td>\n",
       "    </tr>\n",
       "    <tr>\n",
       "      <th>4</th>\n",
       "      <td>8</td>\n",
       "      <td>1.8</td>\n",
       "      <td>256</td>\n",
       "      <td>7</td>\n",
       "      <td>1</td>\n",
       "      <td>2</td>\n",
       "      <td>4</td>\n",
       "      <td>837</td>\n",
       "    </tr>\n",
       "  </tbody>\n",
       "</table>\n",
       "</div>"
      ],
      "text/plain": [
       "   RAM_GB  CPU_frequency  Storage_GB_SSD  CPU_core  OS  GPU  Category  Price\n",
       "0       8            1.6             256         5   1    2         4    978\n",
       "1       4            2.0             256         3   1    1         3    634\n",
       "2       8            2.7             256         7   1    1         3    946\n",
       "3       8            1.6             128         5   1    2         4   1244\n",
       "4       8            1.8             256         7   1    2         4    837"
      ]
     },
     "execution_count": 2102,
     "metadata": {},
     "output_type": "execute_result"
    }
   ],
   "source": [
    "feature = df[['RAM_GB','CPU_frequency','Storage_GB_SSD','CPU_core','OS','GPU','Category','Price']]\n",
    "feature.head()"
   ]
  },
  {
   "cell_type": "code",
   "execution_count": 2104,
   "id": "95d9d257-7513-48ec-8dd0-4e2448317407",
   "metadata": {},
   "outputs": [
    {
     "data": {
      "text/html": [
       "<div>\n",
       "<style scoped>\n",
       "    .dataframe tbody tr th:only-of-type {\n",
       "        vertical-align: middle;\n",
       "    }\n",
       "\n",
       "    .dataframe tbody tr th {\n",
       "        vertical-align: top;\n",
       "    }\n",
       "\n",
       "    .dataframe thead th {\n",
       "        text-align: right;\n",
       "    }\n",
       "</style>\n",
       "<table border=\"1\" class=\"dataframe\">\n",
       "  <thead>\n",
       "    <tr style=\"text-align: right;\">\n",
       "      <th></th>\n",
       "      <th>RAM_GB</th>\n",
       "      <th>CPU_frequency</th>\n",
       "      <th>Storage_GB_SSD</th>\n",
       "      <th>CPU_core</th>\n",
       "      <th>OS</th>\n",
       "      <th>GPU</th>\n",
       "      <th>Category</th>\n",
       "      <th>Price</th>\n",
       "    </tr>\n",
       "  </thead>\n",
       "  <tbody>\n",
       "    <tr>\n",
       "      <th>0</th>\n",
       "      <td>8.0</td>\n",
       "      <td>1.6</td>\n",
       "      <td>256.0</td>\n",
       "      <td>5.0</td>\n",
       "      <td>1.0</td>\n",
       "      <td>2.0</td>\n",
       "      <td>4.0</td>\n",
       "      <td>978.0</td>\n",
       "    </tr>\n",
       "    <tr>\n",
       "      <th>1</th>\n",
       "      <td>4.0</td>\n",
       "      <td>2.0</td>\n",
       "      <td>256.0</td>\n",
       "      <td>3.0</td>\n",
       "      <td>1.0</td>\n",
       "      <td>1.0</td>\n",
       "      <td>3.0</td>\n",
       "      <td>634.0</td>\n",
       "    </tr>\n",
       "    <tr>\n",
       "      <th>2</th>\n",
       "      <td>8.0</td>\n",
       "      <td>2.7</td>\n",
       "      <td>256.0</td>\n",
       "      <td>7.0</td>\n",
       "      <td>1.0</td>\n",
       "      <td>1.0</td>\n",
       "      <td>3.0</td>\n",
       "      <td>946.0</td>\n",
       "    </tr>\n",
       "    <tr>\n",
       "      <th>3</th>\n",
       "      <td>8.0</td>\n",
       "      <td>1.6</td>\n",
       "      <td>128.0</td>\n",
       "      <td>5.0</td>\n",
       "      <td>1.0</td>\n",
       "      <td>2.0</td>\n",
       "      <td>4.0</td>\n",
       "      <td>1244.0</td>\n",
       "    </tr>\n",
       "    <tr>\n",
       "      <th>4</th>\n",
       "      <td>8.0</td>\n",
       "      <td>1.8</td>\n",
       "      <td>256.0</td>\n",
       "      <td>7.0</td>\n",
       "      <td>1.0</td>\n",
       "      <td>2.0</td>\n",
       "      <td>4.0</td>\n",
       "      <td>837.0</td>\n",
       "    </tr>\n",
       "  </tbody>\n",
       "</table>\n",
       "</div>"
      ],
      "text/plain": [
       "   RAM_GB  CPU_frequency  Storage_GB_SSD  CPU_core   OS  GPU  Category   Price\n",
       "0     8.0            1.6           256.0       5.0  1.0  2.0       4.0   978.0\n",
       "1     4.0            2.0           256.0       3.0  1.0  1.0       3.0   634.0\n",
       "2     8.0            2.7           256.0       7.0  1.0  1.0       3.0   946.0\n",
       "3     8.0            1.6           128.0       5.0  1.0  2.0       4.0  1244.0\n",
       "4     8.0            1.8           256.0       7.0  1.0  2.0       4.0   837.0"
      ]
     },
     "execution_count": 2104,
     "metadata": {},
     "output_type": "execute_result"
    }
   ],
   "source": [
    "feature = feature.astype('float64')\n",
    "feature.head()"
   ]
  },
  {
   "cell_type": "markdown",
   "id": "f65f4ec7-f413-4ed6-8c32-4a7602056776",
   "metadata": {},
   "source": [
    "Since we are using all features except Screen Size and Weight, we will implement multiple regression"
   ]
  },
  {
   "cell_type": "code",
   "execution_count": 2107,
   "id": "d442a086-835d-44c5-bca1-38d4a25025a1",
   "metadata": {},
   "outputs": [
    {
     "name": "stdout",
     "output_type": "stream",
     "text": [
      "Accuracy on training data:  0.5257296007782036\n",
      "Accuracy on test data:  0.40271445393150596\n"
     ]
    }
   ],
   "source": [
    "# First, we create a regression object\n",
    "lm1 = LinearRegression()\n",
    "# Next, we define our parameters and assign them to X\n",
    "X = feature.drop(['Price'],axis=1)\n",
    "# We define our target and assign it to Y\n",
    "Y = feature['Price']\n",
    "# Then we split our data\n",
    "x_train, x_test, y_train, y_test = train_test_split(X, Y, test_size=0.30, random_state=1)\n",
    "# Let's fit our training data now and check our score on the test data\n",
    "lm1.fit(x_train, y_train)\n",
    "\n",
    "# To check our accuracy\n",
    "print(\"Accuracy on training data: \", lm1.score(x_train, y_train))\n",
    "print(\"Accuracy on test data: \", lm1.score(x_test, y_test))"
   ]
  },
  {
   "cell_type": "markdown",
   "id": "0d8ff59d-c86d-4180-a9b5-a0906f3e2a2e",
   "metadata": {},
   "source": [
    "We can try to increase our accuracy, so we will try to **evaluate** our model."
   ]
  },
  {
   "cell_type": "markdown",
   "id": "18b3dcaf-9c16-4286-bee3-d64966dc9a74",
   "metadata": {},
   "source": [
    "We can apply Rigid Regression, polynomization and standardization to evaluate our model."
   ]
  },
  {
   "cell_type": "markdown",
   "id": "2e0c543d-0f0b-4cf9-a97d-9b374cf9a351",
   "metadata": {},
   "source": [
    "In order to do that we want to create GridSearch to find best parameters for our purpose."
   ]
  },
  {
   "cell_type": "code",
   "execution_count": 2114,
   "id": "fedf8ad1-a8e3-4930-81ce-53cb21d1540c",
   "metadata": {},
   "outputs": [
    {
     "name": "stdout",
     "output_type": "stream",
     "text": [
      "Our best parameters:  {'poly__degree': 4, 'ridge__alpha': 100}\n",
      "Accuracy on train data:  0.616515284426262\n",
      "Accuracy on test data:  0.4850344659154384\n"
     ]
    }
   ],
   "source": [
    "# Here, we are defining our dictionary that contains possible values of polynomial degree and possible values of alpha in ridge regression. \n",
    "param_grid = {\n",
    "    'poly__degree': [2, 3, 4, 5],            \n",
    "    'ridge__alpha': [0.0001,0.001,0.01, 0.1, 1, 10,100,1000]     \n",
    "}\n",
    "\n",
    "# Here, we are creating a pipeline which will apply polynomization, standardization and ridge regression.\n",
    "pipeline = Pipeline([\n",
    "    ('poly', PolynomialFeatures()),         \n",
    "    ('scaler', StandardScaler()),         \n",
    "    ('ridge', Ridge())                     \n",
    "])\n",
    "# Creating ridge object\n",
    "RR=Ridge()\n",
    "# Creating GridSearch object\n",
    "Grid1 = GridSearchCV(pipeline, param_grid,cv=5)\n",
    "# Now the rest is fitting the model\n",
    "Grid1.fit(x_train, y_train)\n",
    "BestRR=Grid1.best_estimator_\n",
    "print(\"Our best parameters: \", Grid1.best_params_)\n",
    "print(\"Accuracy on train data: \", BestRR.score(x_train, y_train))\n",
    "print(\"Accuracy on test data: \", BestRR.score(x_test, y_test))"
   ]
  },
  {
   "cell_type": "markdown",
   "id": "77a25f5b-ea75-400f-8453-0d59324271f1",
   "metadata": {},
   "source": [
    "Since our dataset is small, we could not find very high accuracy results, but we increased our accuracy by finding optimal parameters."
   ]
  },
  {
   "cell_type": "markdown",
   "id": "d88fa5e4-24f4-49d2-9bb8-05033b3e624e",
   "metadata": {},
   "source": [
    "Let's try to create a GridSearch object, but this time it will be with Support Vector Regression instead of Ridge Regression."
   ]
  },
  {
   "cell_type": "code",
   "execution_count": 2118,
   "id": "d4b7312a-3dc7-45da-976a-7c97d0e9715e",
   "metadata": {},
   "outputs": [
    {
     "name": "stdout",
     "output_type": "stream",
     "text": [
      "Fitting 5 folds for each of 384 candidates, totalling 1920 fits\n",
      "Best Parameters: {'poly__degree': 3, 'svr__C': 10, 'svr__epsilon': 0.1, 'svr__gamma': 'scale', 'svr__kernel': 'linear'}\n",
      "Accuracy on train data:  0.5750541475677269\n",
      "Accuracy on test data:  0.5104453681058823\n"
     ]
    }
   ],
   "source": [
    "# Import necessary libraries\n",
    "from sklearn.svm import SVR\n",
    "\n",
    "# Let's create a pipeline with PolynomialFeatures, StandardScaler, and SVR\n",
    "pipeline = Pipeline([\n",
    "    ('poly', PolynomialFeatures()),        \n",
    "    ('scaler', StandardScaler()),          \n",
    "    ('svr', SVR())                        \n",
    "])\n",
    "\n",
    "# let's efine the hyperparameter grid\n",
    "param_grid = {\n",
    "    'poly__degree': [1, 2, 3, 4],            \n",
    "    'svr__kernel': ['linear', 'rbf'],      \n",
    "    'svr__C': [0.01, 0.1, 1, 10, 100, 1000],           \n",
    "    'svr__epsilon': [0.01, 0.1, 1, 10],       \n",
    "    'svr__gamma': ['scale', 'auto']      \n",
    "}\n",
    "\n",
    "# We create GridSearchCV with the pipeline\n",
    "grid_search = GridSearchCV(estimator=pipeline, param_grid=param_grid, cv=5, verbose=2, n_jobs=-1)\n",
    "\n",
    "# Fiting GridSearchCV\n",
    "grid_search.fit(x_train, y_train)\n",
    "\n",
    "# Getting the best parameters and estimator\n",
    "print(\"Best Parameters:\", grid_search.best_params_)\n",
    "best_model = grid_search.best_estimator_\n",
    "\n",
    "print(\"Accuracy on train data: \", best_model.score(x_train, y_train))\n",
    "print(\"Accuracy on test data: \", best_model.score(x_test, y_test))"
   ]
  },
  {
   "cell_type": "markdown",
   "id": "1e111941-d0d9-411a-a418-4a15dbfd57e9",
   "metadata": {},
   "source": [
    "We see that SVR showed worse accuracy on training data, but better accuracy on test data according to Ridge Regression."
   ]
  },
  {
   "cell_type": "markdown",
   "id": "b77754f2-e6fb-49fc-9ba6-ce712d1c1f33",
   "metadata": {},
   "source": [
    "Now, let's try Lasso Regression"
   ]
  },
  {
   "cell_type": "code",
   "execution_count": 2122,
   "id": "07f176ff-4100-4c11-ae0e-5240fd2fde7d",
   "metadata": {},
   "outputs": [
    {
     "name": "stdout",
     "output_type": "stream",
     "text": [
      "Fitting 5 folds for each of 40 candidates, totalling 200 fits\n",
      "Best Parameters: {'lasso__alpha': 10, 'lasso__max_iter': 1000, 'poly__degree': 3}\n",
      "Accuracy on train data:  0.6106141242784222\n",
      "Accuracy on test data:  0.46648752357718404\n"
     ]
    }
   ],
   "source": [
    "# Import necessary libraries\n",
    "from sklearn.linear_model import Lasso\n",
    "\n",
    "# Creating a pipeline with PolynomialFeatures, StandardScaler, and Lasso Regression\n",
    "pipeline = Pipeline([\n",
    "    ('poly', PolynomialFeatures()),        \n",
    "    ('scaler', StandardScaler()),        \n",
    "    ('lasso', Lasso())                   \n",
    "])\n",
    "\n",
    "# Defining the hyperparameter grid\n",
    "param_grid = {\n",
    "    'poly__degree': [1, 2, 3, 4],            \n",
    "    'lasso__alpha': [0.01, 0.1, 1, 10, 100],  \n",
    "    'lasso__max_iter': [1000, 5000]      \n",
    "}\n",
    "\n",
    "# Creating GridSearchCV object with the pipeline\n",
    "grid_search = GridSearchCV(estimator=pipeline, param_grid=param_grid, cv=5, verbose=2, n_jobs=-1)\n",
    "\n",
    "# Fiting GridSearchCV\n",
    "grid_search.fit(x_train, y_train)\n",
    "\n",
    "# Getting the best parameters and estimator\n",
    "print(\"Best Parameters:\", grid_search.best_params_)\n",
    "best_model = grid_search.best_estimator_\n",
    "\n",
    "print(\"Accuracy on train data: \", best_model.score(x_train, y_train))\n",
    "print(\"Accuracy on test data: \", best_model.score(x_test, y_test))"
   ]
  },
  {
   "cell_type": "markdown",
   "id": "16ebd203-a8f5-4032-a7c0-92ccdc71923b",
   "metadata": {},
   "source": [
    "From here, we interpret that even if it gave better training data accuracy, its test data accuracy is smaller than the others until now."
   ]
  },
  {
   "cell_type": "markdown",
   "id": "7551717e-e373-4f60-8b0d-59c4a1c1d6b2",
   "metadata": {},
   "source": [
    "Finally let's try K Neighbors Regression which may give better results on small datasets."
   ]
  },
  {
   "cell_type": "code",
   "execution_count": 2126,
   "id": "d13d6f91-f01f-4b86-a4a8-9898e65b43a9",
   "metadata": {},
   "outputs": [
    {
     "name": "stdout",
     "output_type": "stream",
     "text": [
      "Fitting 5 folds for each of 224 candidates, totalling 1120 fits\n",
      "Best Parameters: {'knn__algorithm': 'ball_tree', 'knn__n_neighbors': 12, 'knn__weights': 'distance', 'poly__degree': 3}\n",
      "Accuracy on train data:  0.8217995400985081\n",
      "Accuracy on test data:  0.5726159768569109\n"
     ]
    }
   ],
   "source": [
    "# Import necessary libraries\n",
    "from sklearn.neighbors import KNeighborsRegressor\n",
    "\n",
    "# Creating a pipeline with PolynomialFeatures, StandardScaler, and KNN Regression\n",
    "pipeline = Pipeline([\n",
    "    ('poly', PolynomialFeatures()),        \n",
    "    ('scaler', StandardScaler()),          \n",
    "    ('knn', KNeighborsRegressor())         \n",
    "])\n",
    "\n",
    "# Defining the hyperparameter grid\n",
    "param_grid = {\n",
    "    'poly__degree': [1, 2, 3, 4],                 \n",
    "    'knn__n_neighbors': [3, 5, 7, 10, 11, 12, 13],        \n",
    "    'knn__weights': ['uniform', 'distance'],  \n",
    "    'knn__algorithm': ['auto', 'ball_tree', 'kd_tree', 'brute'] \n",
    "}\n",
    "\n",
    "# Creating GridSearchCV object with the pipeline\n",
    "grid_search = GridSearchCV(estimator=pipeline, param_grid=param_grid, cv=5, verbose=2, n_jobs=-1)\n",
    "\n",
    "# Fiting GridSearchCV\n",
    "grid_search.fit(x_train, y_train)\n",
    "\n",
    "# Geting the best parameters and estimator\n",
    "print(\"Best Parameters:\", grid_search.best_params_)\n",
    "best_model = grid_search.best_estimator_\n",
    "\n",
    "print(\"Accuracy on train data: \", best_model.score(x_train, y_train))\n",
    "print(\"Accuracy on test data: \", best_model.score(x_test, y_test))"
   ]
  },
  {
   "cell_type": "markdown",
   "id": "016a6e4f-74ac-4db0-a24a-b348b0f369ea",
   "metadata": {},
   "source": [
    "It obviously gave better results for both train and test data."
   ]
  },
  {
   "cell_type": "markdown",
   "id": "3887383f-645a-4ea6-bfc5-2a33990e40c1",
   "metadata": {},
   "source": [
    "As a conclusion, **K Neighbors Regression** is the best."
   ]
  }
 ],
 "metadata": {
  "kernelspec": {
   "display_name": "Python 3 (ipykernel)",
   "language": "python",
   "name": "python3"
  },
  "language_info": {
   "codemirror_mode": {
    "name": "ipython",
    "version": 3
   },
   "file_extension": ".py",
   "mimetype": "text/x-python",
   "name": "python",
   "nbconvert_exporter": "python",
   "pygments_lexer": "ipython3",
   "version": "3.9.17"
  }
 },
 "nbformat": 4,
 "nbformat_minor": 5
}
